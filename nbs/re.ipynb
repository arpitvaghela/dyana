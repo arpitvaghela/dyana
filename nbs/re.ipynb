{
 "cells": [
  {
   "cell_type": "markdown",
   "metadata": {},
   "source": [
    "# Grokking : Generalization beyond Overfitting on Small Dataset \n",
    "This Notebook aims at exploring the official implementation"
   ]
  },
  {
   "cell_type": "code",
   "execution_count": 1,
   "metadata": {},
   "outputs": [],
   "source": [
    "import torch as th\n",
    "import pandas as pd\n",
    "import numpy as np\n",
    "\n",
    "import itertools\n",
    "\n",
    "import grok"
   ]
  },
  {
   "cell_type": "markdown",
   "metadata": {},
   "source": [
    "## Understanding the Dataset and DataLoader"
   ]
  },
  {
   "cell_type": "markdown",
   "metadata": {},
   "source": [
    "### Dataset"
   ]
  },
  {
   "cell_type": "code",
   "execution_count": 14,
   "metadata": {},
   "outputs": [],
   "source": [
    "from grok.data import ArithmeticDataset, ArithmeticTokenizer\n",
    "\n",
    "train_ds, valid_ds = ArithmeticDataset.splits(50,\"s5\",None,\"./data\")"
   ]
  },
  {
   "cell_type": "code",
   "execution_count": 15,
   "metadata": {},
   "outputs": [],
   "source": [
    "assert 120**2 == train_ds.data.shape[0] + valid_ds.data.shape[0]"
   ]
  },
  {
   "cell_type": "code",
   "execution_count": 16,
   "metadata": {},
   "outputs": [
    {
     "data": {
      "text/plain": [
       "(tensor([[  0, 175,  13, 154,   1, 232,   0],\n",
       "         [  0, 211,  13, 144,   1, 233,   0],\n",
       "         [  0, 131,  13, 202,   1, 206,   0],\n",
       "         [  0, 230,  13, 223,   1, 205,   0],\n",
       "         [  0, 215,  13, 132,   1, 169,   0]]),\n",
       " ['<|eos|> 21304 s5 12430 = 42310 <|eos|>',\n",
       "  '<|eos|> 34102 s5 10243 = 43012 <|eos|>',\n",
       "  '<|eos|> 03124 s5 31420 = 32140 <|eos|>',\n",
       "  '<|eos|> 42130 s5 41203 = 32104 <|eos|>',\n",
       "  '<|eos|> 40123 s5 03142 = 20314 <|eos|>'])"
      ]
     },
     "execution_count": 16,
     "metadata": {},
     "output_type": "execute_result"
    }
   ],
   "source": [
    "train_ds.data[:5],train_ds.tokenizer.decode(train_ds.data[:5])"
   ]
  },
  {
   "cell_type": "code",
   "execution_count": 21,
   "metadata": {},
   "outputs": [
    {
     "data": {
      "text/plain": [
       "239"
      ]
     },
     "execution_count": 21,
     "metadata": {},
     "output_type": "execute_result"
    }
   ],
   "source": [
    "ArithmeticTokenizer.get_tokens()"
   ]
  },
  {
   "cell_type": "code",
   "execution_count": null,
   "metadata": {},
   "outputs": [],
   "source": []
  }
 ],
 "metadata": {
  "interpreter": {
   "hash": "11b01b9c5b8ff60b99e90016c0fc35672e8bff0e840ae7e3fc812494c63e782d"
  },
  "kernelspec": {
   "display_name": "Python 3.9.6 64-bit ('syft': conda)",
   "language": "python",
   "name": "python3"
  },
  "language_info": {
   "codemirror_mode": {
    "name": "ipython",
    "version": 3
   },
   "file_extension": ".py",
   "mimetype": "text/x-python",
   "name": "python",
   "nbconvert_exporter": "python",
   "pygments_lexer": "ipython3",
   "version": "3.9.6"
  },
  "orig_nbformat": 4
 },
 "nbformat": 4,
 "nbformat_minor": 2
}
