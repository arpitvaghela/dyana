{
 "cells": [
  {
   "cell_type": "code",
   "execution_count": 10,
   "id": "844d03e0",
   "metadata": {},
   "outputs": [],
   "source": [
    "import torch\n",
    "from torch import Tensor\n",
    "from torch.utils.data import dataset\n",
    "from torchtext import datasets\n",
    "from grok.transformer import Transformer\n",
    "\n",
    "from torchtext.datasets import PennTreebank\n",
    "from torchtext.vocab import build_vocab_from_iterator\n",
    "from torchtext.data.utils import get_tokenizer\n",
    "\n",
    "from typing import Tuple, Dict\n",
    "import math"
   ]
  },
  {
   "cell_type": "code",
   "execution_count": 11,
   "id": "bbac2a6e",
   "metadata": {},
   "outputs": [],
   "source": [
    "train_iter = datasets.PennTreebank(root=\"../data\", split=\"train\")\n",
    "tokenizer = get_tokenizer('basic_english')\n",
    "vocab = build_vocab_from_iterator(map(tokenizer, train_iter), specials=['<unk>'])\n",
    "vocab.set_default_index(vocab['<unk>'])\n",
    "\n",
    "def data_process(raw_text_iter: dataset.IterableDataset) -> torch.Tensor:\n",
    "    \"\"\"Converts raw text into a flat Tensor.\"\"\"\n",
    "    data = [torch.tensor(vocab(tokenizer(item)), dtype=torch.long) for item in raw_text_iter]\n",
    "    return torch.cat(tuple(filter(lambda t: t.numel() > 0, data)))\n"
   ]
  },
  {
   "cell_type": "code",
   "execution_count": 12,
   "id": "a850cd76",
   "metadata": {},
   "outputs": [
    {
     "data": {
      "text/plain": [
       "torch.Size([924412])"
      ]
     },
     "execution_count": 12,
     "metadata": {},
     "output_type": "execute_result"
    }
   ],
   "source": [
    "train_data = data_process(train_iter)\n",
    "train_data.train = True\n",
    "train_data.shape"
   ]
  },
  {
   "cell_type": "code",
   "execution_count": 13,
   "id": "600d6c9f",
   "metadata": {},
   "outputs": [],
   "source": [
    "def data_process(raw_text_iter: dataset.IterableDataset) -> torch.Tensor:\n",
    "    \"\"\"Converts raw text into a flat Tensor.\"\"\"\n",
    "    data = [torch.tensor(vocab(tokenizer(item)), dtype=torch.long) for item in raw_text_iter]\n",
    "    return torch.cat(tuple(filter(lambda t: t.numel() > 0, data)))\n",
    "\n",
    "\n",
    "def get_ptb_dataset(train_pct: float, split:str = \"train\", data_dir:str =\"../data\"):\n",
    "        data_iter = datasets.PennTreebank(root=data_dir, split=split)\n",
    "        tokenizer = get_tokenizer('basic_english')\n",
    "        \n",
    "        if split != \"train\":\n",
    "            train_iter = datasets.PennTreebank(root=data_dir, split=\"train\")\n",
    "            vocab = build_vocab_from_iterator(map(tokenizer, train_iter), specials=['<unk>'])\n",
    "        else:\n",
    "            vocab = build_vocab_from_iterator(map(tokenizer, data_iter), specials=['<unk>'])\n",
    "        \n",
    "        vocab.set_default_index(vocab['<unk>'])\n",
    "        \n",
    "        data = data_process(data_iter)\n",
    "        data = data[:int(train_pct*len(data))]\n",
    "        if split ==\"train\":\n",
    "            data.train = True\n",
    "        data.tokenizer = tokenizer\n",
    "        data.vocab = vocab\n",
    "        return data\n",
    "\n",
    "\n",
    "        "
   ]
  },
  {
   "cell_type": "code",
   "execution_count": 14,
   "id": "2aaf3669",
   "metadata": {},
   "outputs": [],
   "source": [
    "def batchify(data: torch.Tensor, bsz: int) -> Tensor:\n",
    "    \"\"\"Divides the data into bsz separate sequences, removing extra elements\n",
    "    that wouldn't cleanly fit.\n",
    "\n",
    "    Args:\n",
    "        data: Tensor, shape [N]\n",
    "        bsz: int, batch size\n",
    "\n",
    "    Returns:\n",
    "        Tensor of shape [N // bsz, bsz]\n",
    "    \"\"\"\n",
    "    seq_len = data.size(0) // bsz\n",
    "    data = data[:seq_len * bsz]\n",
    "    data = data.view(bsz, seq_len).contiguous()\n",
    "    return data\n",
    "\n",
    "bptt = 5\n",
    "def get_batch(source: torch.Tensor, i: int) -> Tuple[Tensor, Tensor]:\n",
    "    \"\"\"\n",
    "    Args:\n",
    "        source: Tensor, shape [full_seq_len, batch_size]\n",
    "        i: int\n",
    "\n",
    "    Returns:\n",
    "        tuple (data, target), where data has shape [seq_len, batch_size] and\n",
    "        target has shape [seq_len * batch_size]\n",
    "    \"\"\"\n",
    "    print(source.shape)\n",
    "    seq_len = min(bptt, source.size(1) - 1 - i)\n",
    "    data = source[:,i:i+seq_len]\n",
    "    target = source[:,i+1:i+1+seq_len]\n",
    "    return data, target\n",
    "\n",
    "\n",
    "class PTBIterator(torch.utils.data.IterableDataset):\n",
    "    \"\"\"\n",
    "    An iterator over batches of data in an ArithmeticDataset\n",
    "    \"\"\"\n",
    "\n",
    "    def __init__(\n",
    "        self,\n",
    "        dataset: torch.utils.data.Dataset,\n",
    "        device: torch.device,\n",
    "        batchsize: float = 2,\n",
    "        shuffle: bool = True,\n",
    "    ) -> None:\n",
    "        \"\"\"\n",
    "        :param dataset: the dataset to iterate over\n",
    "        :param device: the torch device to send batches to\n",
    "        :param batchsize_hint: * 0 means we use a default batchsize\n",
    "                               * -1 means the entire dataset\n",
    "                               * float between 0 and 1 means each batch is\n",
    "                                 that fraction of the DS\n",
    "                               * int > 1 means that specific batch size\n",
    "        :param shuffle: whether or not to randomly shuffle the dataset\n",
    "        \"\"\"\n",
    "        self.dataset = dataset\n",
    "        self.data = batchify(self.dataset, batchsize)\n",
    "        self.device = device\n",
    "        self.reset_iteration(shuffle=shuffle)\n",
    "        self.batchsize = batchsize\n",
    "\n",
    "    def reset_iteration(self, shuffle=True):\n",
    "        self.index = 0\n",
    "        if shuffle and self.dataset.train:\n",
    "            self.permutation = torch.randperm(len(self.dataset))\n",
    "        else:\n",
    "            self.permutation = torch.arange(len(self.dataset))\n",
    "\n",
    "    \n",
    "    def __iter__(self):\n",
    "        \"\"\"\n",
    "        :returns: this iterator\n",
    "        \"\"\"\n",
    "        return self\n",
    "\n",
    "    def __next__(self) -> Dict[str, Tensor]:\n",
    "        \"\"\"\n",
    "        Returns one batch of data.\n",
    "\n",
    "        :raises: StopIteration when we're out of data\n",
    "        :returns: batch tensor of shape (self.batchsize, tokens_per_eq)\n",
    "        \"\"\"\n",
    "        self.index += 1\n",
    "        return get_batch(self.data, self.index)\n",
    "        \n",
    "        \n",
    "    def __len__(self) -> int:\n",
    "        \"\"\"\n",
    "        :returns: the total number of batches\n",
    "        \"\"\"\n",
    "        return math.ceil(len(self.dataset) / self.batchsize)\n",
    "\n",
    "    "
   ]
  },
  {
   "cell_type": "code",
   "execution_count": 133,
   "id": "0ace1035",
   "metadata": {},
   "outputs": [],
   "source": [
    "train_iter = PTBIterator(get_ptb_dataset(0.2), torch.device(\"cpu\"))"
   ]
  },
  {
   "cell_type": "code",
   "execution_count": 134,
   "id": "38a2ff50",
   "metadata": {},
   "outputs": [
    {
     "data": {
      "text/plain": [
       "92441"
      ]
     },
     "execution_count": 134,
     "metadata": {},
     "output_type": "execute_result"
    }
   ],
   "source": [
    "len(train_iter)"
   ]
  },
  {
   "cell_type": "code",
   "execution_count": 135,
   "id": "7c66429d",
   "metadata": {},
   "outputs": [
    {
     "name": "stdout",
     "output_type": "stream",
     "text": [
      "torch.Size([2, 92441])\n"
     ]
    },
    {
     "data": {
      "text/plain": [
       "(tensor([[9893, 9894, 9896, 9897, 9898],\n",
       "         [   0, 1192,    2,    2,    3]]),\n",
       " tensor([[9894, 9896, 9897, 9898, 9902],\n",
       "         [1192,    2,    2,    3,    1]]))"
      ]
     },
     "execution_count": 135,
     "metadata": {},
     "output_type": "execute_result"
    }
   ],
   "source": [
    "data,target = next(iter(train_iter))\n",
    "data, target"
   ]
  },
  {
   "cell_type": "markdown",
   "id": "e5305b7e",
   "metadata": {},
   "source": [
    "## Test grok internals"
   ]
  },
  {
   "cell_type": "code",
   "execution_count": 1,
   "id": "47229b6a",
   "metadata": {},
   "outputs": [],
   "source": [
    "from grok.training_ptb import TrainableTransformer\n",
    "from grok  import training_ptb\n",
    "import os\n",
    "import argparse"
   ]
  },
  {
   "cell_type": "code",
   "execution_count": 2,
   "id": "561a7e48",
   "metadata": {},
   "outputs": [],
   "source": [
    "hparams = argparse.Namespace(random_seed=-1, gpu=0, max_epochs=None, max_steps=1000000, log=False, load_path=None, resume=False, run_path=None, batchsize=512, optimizer='Adam', n_layers=2, n_heads=4, d_model=128, dropout=0.0, weight_noise=0.0, non_linearity='relu', max_context_len=50, dataset='ptb', math_operator='+', operand_length=None, train_data_pct=0.5, warmup_steps=10, anneal_lr_steps=100000, anneal_lr=False, max_lr=0.001, weight_decay=0, weight_decay_kind='to_zero', noise_factor=0, save_activations=False, save_outputs=False, logdir='/home/alpha91/data/codes/grok/nbs/logs', datadir='/home/alpha91/data/codes/grok/nbs/data')\n",
    "\n",
    "\n"
   ]
  },
  {
   "cell_type": "code",
   "execution_count": 3,
   "id": "bbf2273f",
   "metadata": {},
   "outputs": [
    {
     "name": "stdout",
     "output_type": "stream",
     "text": [
      "Namespace(random_seed=-1, gpu=0, max_epochs=None, max_steps=1000000, log=False, load_path=None, resume=False, run_path=None, batchsize=512, optimizer='Adam', n_layers=2, n_heads=4, d_model=128, dropout=0.0, weight_noise=0.0, non_linearity='relu', max_context_len=50, dataset='ptb', math_operator='+', operand_length=None, train_data_pct=0.5, warmup_steps=10, anneal_lr_steps=100000, anneal_lr=False, max_lr=0.001, weight_decay=0, weight_decay_kind='to_zero', noise_factor=0, save_activations=False, save_outputs=False, logdir='/home/alpha91/data/codes/grok/nbs/logs', datadir='/home/alpha91/data/codes/grok/nbs/data')\n"
     ]
    }
   ],
   "source": [
    "model = TrainableTransformer(hparams).float()"
   ]
  },
  {
   "cell_type": "code",
   "execution_count": 4,
   "id": "78e7fdc1",
   "metadata": {},
   "outputs": [
    {
     "data": {
      "text/plain": [
       "10477"
      ]
     },
     "execution_count": 4,
     "metadata": {},
     "output_type": "execute_result"
    }
   ],
   "source": [
    "model.val_dataset.shape[0] // 7"
   ]
  },
  {
   "cell_type": "code",
   "execution_count": 5,
   "id": "e4307868",
   "metadata": {},
   "outputs": [],
   "source": [
    "train_iter = model.val_dataloader()"
   ]
  },
  {
   "cell_type": "code",
   "execution_count": 6,
   "id": "b3db458a",
   "metadata": {},
   "outputs": [
    {
     "name": "stdout",
     "output_type": "stream",
     "text": [
      "torch.Size([10477, 7])\n"
     ]
    },
    {
     "data": {
      "text/plain": [
       "(torch.Size([10477, 5]), torch.Size([10477, 5]))"
      ]
     },
     "execution_count": 6,
     "metadata": {},
     "output_type": "execute_result"
    }
   ],
   "source": [
    "batch = next(iter(train_iter))\n",
    "\n",
    "batch[\"text\"].shape, batch[\"target\"].shape"
   ]
  },
  {
   "cell_type": "code",
   "execution_count": 7,
   "id": "eff75532",
   "metadata": {},
   "outputs": [
    {
     "name": "stdout",
     "output_type": "stream",
     "text": [
      "Y => torch.Size([10477, 5]) ('N', 'Seq', 'Vocab_size')\n",
      "Y_hat =>  torch.Size([10477, 5, 9922]) ('N', 'Seq', 'Vocab_size')\n",
      "Acc y shapes torch.Size([10477, 5]) torch.Size([10477, 5])\n"
     ]
    },
    {
     "data": {
      "text/plain": [
       "(tensor(9.3913, grad_fn=<NllLoss2DBackward0>),\n",
       " tensor(0.),\n",
       " 0.022667382076390182,\n",
       " tensor([[  95,  360,    4,  330,   53],\n",
       "         [ 327, 2465,    4,    1,  664],\n",
       "         [   0, 2964, 2150,    9,   10],\n",
       "         ...,\n",
       "         [   6,    1,  418,   41,  152],\n",
       "         [  21,   13,    2,   22,    6],\n",
       "         [   7,   13,    2,   22,    6]]),\n",
       " tensor([[[-6.4233e-01,  3.8416e-01,  6.6688e-01,  5.4622e-01,  3.6181e-01],\n",
       "          [ 3.6725e-01, -1.8352e-01, -9.5994e-01, -4.0968e-01, -1.8899e+00],\n",
       "          [-7.7870e-01,  2.4395e-02, -8.7754e-01, -8.1040e-01, -8.2959e-01],\n",
       "          ...,\n",
       "          [ 4.1714e-01, -3.1220e-01, -4.6067e-01, -4.6338e-01, -6.5327e-01],\n",
       "          [-6.4522e-01,  5.0497e-01, -4.2418e-02, -4.7216e-04,  5.0809e-01],\n",
       "          [ 6.4652e-01,  3.1338e-01, -3.2233e-01,  1.6457e-01,  8.9881e-01]],\n",
       " \n",
       "         [[ 7.8595e-01,  4.1528e-01,  1.0589e+00,  3.8252e-01,  2.3192e-02],\n",
       "          [-8.3560e-01, -8.0072e-01, -7.4234e-01, -6.2866e-01, -8.8343e-01],\n",
       "          [-6.0286e-01, -1.2606e+00, -7.2779e-01, -7.4363e-01, -1.1154e+00],\n",
       "          ...,\n",
       "          [-1.8526e-01,  9.0666e-02, -3.1477e-01,  1.7132e-02, -1.1552e-01],\n",
       "          [ 9.0472e-01,  4.9556e-01, -3.4464e-02,  7.6270e-01,  2.3107e-01],\n",
       "          [ 6.3830e-01,  3.8055e-01, -4.1903e-01,  3.1328e-01,  1.2791e-01]],\n",
       " \n",
       "         [[ 6.8514e-01,  1.4114e+00,  7.5396e-01,  4.8387e-01,  8.6849e-02],\n",
       "          [-8.2548e-01, -1.4699e-01, -6.4236e-01, -1.6323e+00, -2.0861e+00],\n",
       "          [-9.5198e-01,  3.8831e-02, -2.3244e-01,  1.4493e-01, -9.6574e-01],\n",
       "          ...,\n",
       "          [-1.9616e-01, -2.5865e-01, -4.2988e-02,  2.9577e-01, -9.0764e-01],\n",
       "          [-2.2548e-01, -9.9513e-03, -5.1152e-01,  2.6691e-01, -5.7864e-01],\n",
       "          [-1.0320e+00, -4.2581e-01, -1.6601e-01,  6.5596e-01,  3.9561e-01]],\n",
       " \n",
       "         ...,\n",
       " \n",
       "         [[ 5.7129e-01,  1.9898e-01,  7.6782e-02, -1.0567e-01,  1.4617e-01],\n",
       "          [ 3.1245e-01, -1.7256e-01, -2.7769e-02, -3.6983e-01, -1.6287e-01],\n",
       "          [-3.8993e-01, -5.5397e-01, -9.3425e-01,  5.6358e-01, -2.7854e-01],\n",
       "          ...,\n",
       "          [-1.3450e-01, -1.8687e-01,  1.2482e+00, -1.8580e-01, -4.5442e-01],\n",
       "          [-5.3748e-01,  9.4662e-01, -5.1967e-01,  6.1735e-01,  2.8077e-02],\n",
       "          [ 5.8905e-01,  2.8755e-01,  2.8829e-01,  4.5043e-01,  3.3110e-01]],\n",
       " \n",
       "         [[ 8.6976e-01,  6.9355e-01,  2.9193e-01, -7.2565e-02,  3.1519e-01],\n",
       "          [ 5.2775e-01, -7.1711e-01, -1.5653e+00, -5.0404e-01, -1.3723e-01],\n",
       "          [ 6.0082e-01,  7.7827e-01, -5.2235e-02, -9.8839e-01, -4.4123e-01],\n",
       "          ...,\n",
       "          [ 7.3866e-01,  1.7604e-01,  7.4749e-02,  6.3509e-01, -1.4610e-01],\n",
       "          [-4.3458e-01,  8.9646e-01,  8.0955e-01, -5.9027e-02, -7.2372e-01],\n",
       "          [-4.0919e-01,  1.5655e-01,  5.5985e-01,  4.4334e-01,  7.4501e-01]],\n",
       " \n",
       "         [[ 5.2031e-01,  6.8441e-01,  3.8476e-01, -2.7656e-02,  3.1521e-01],\n",
       "          [-2.8577e-01, -7.5971e-01, -1.5038e+00, -5.8019e-01, -1.9658e-01],\n",
       "          [ 3.2330e-03,  7.4448e-01, -6.5998e-02, -1.0240e+00, -4.3721e-01],\n",
       "          ...,\n",
       "          [ 5.2617e-01,  2.8381e-01,  1.7006e-01,  7.2861e-01, -1.1896e-01],\n",
       "          [ 2.5182e-01,  1.0177e+00,  8.2467e-01, -2.6651e-02, -6.8710e-01],\n",
       "          [ 6.1596e-01,  3.2011e-01,  6.0339e-01,  5.5119e-01,  7.7121e-01]]],\n",
       "        grad_fn=<TransposeBackward0>),\n",
       " [],\n",
       " [])"
      ]
     },
     "execution_count": 7,
     "metadata": {},
     "output_type": "execute_result"
    }
   ],
   "source": [
    "model._step(batch, 0)\n"
   ]
  },
  {
   "cell_type": "code",
   "execution_count": null,
   "id": "fa6e1df9",
   "metadata": {},
   "outputs": [],
   "source": []
  }
 ],
 "metadata": {
  "kernelspec": {
   "display_name": "Python 3 (ipykernel)",
   "language": "python",
   "name": "python3"
  },
  "language_info": {
   "codemirror_mode": {
    "name": "ipython",
    "version": 3
   },
   "file_extension": ".py",
   "mimetype": "text/x-python",
   "name": "python",
   "nbconvert_exporter": "python",
   "pygments_lexer": "ipython3",
   "version": "3.9.7"
  }
 },
 "nbformat": 4,
 "nbformat_minor": 5
}
