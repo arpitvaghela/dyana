{
 "cells": [
  {
   "cell_type": "code",
   "execution_count": 128,
   "id": "844d03e0",
   "metadata": {},
   "outputs": [],
   "source": [
    "import torch\n",
    "from torch import Tensor\n",
    "from torch.utils.data import dataset\n",
    "from torchtext import datasets\n",
    "from grok.transformer import Transformer\n",
    "\n",
    "from torchtext.datasets import PennTreebank\n",
    "from torchtext.vocab import build_vocab_from_iterator\n",
    "from torchtext.data.utils import get_tokenizer\n",
    "\n",
    "from typing import Tuple, Dict\n",
    "import math"
   ]
  },
  {
   "cell_type": "code",
   "execution_count": 129,
   "id": "bbac2a6e",
   "metadata": {},
   "outputs": [],
   "source": [
    "train_iter = datasets.PennTreebank(root=\"../data\", split=\"train\")\n",
    "tokenizer = get_tokenizer('basic_english')\n",
    "vocab = build_vocab_from_iterator(map(tokenizer, train_iter), specials=['<unk>'])\n",
    "vocab.set_default_index(vocab['<unk>'])\n",
    "\n",
    "def data_process(raw_text_iter: dataset.IterableDataset) -> torch.Tensor:\n",
    "    \"\"\"Converts raw text into a flat Tensor.\"\"\"\n",
    "    data = [torch.tensor(vocab(tokenizer(item)), dtype=torch.long) for item in raw_text_iter]\n",
    "    return torch.cat(tuple(filter(lambda t: t.numel() > 0, data)))\n"
   ]
  },
  {
   "cell_type": "code",
   "execution_count": 130,
   "id": "a850cd76",
   "metadata": {},
   "outputs": [
    {
     "data": {
      "text/plain": [
       "torch.Size([924412])"
      ]
     },
     "execution_count": 130,
     "metadata": {},
     "output_type": "execute_result"
    }
   ],
   "source": [
    "train_data = data_process(train_iter)\n",
    "train_data.train = True\n",
    "train_data.shape"
   ]
  },
  {
   "cell_type": "code",
   "execution_count": 131,
   "id": "600d6c9f",
   "metadata": {},
   "outputs": [],
   "source": [
    "def data_process(raw_text_iter: dataset.IterableDataset) -> torch.Tensor:\n",
    "    \"\"\"Converts raw text into a flat Tensor.\"\"\"\n",
    "    data = [torch.tensor(vocab(tokenizer(item)), dtype=torch.long) for item in raw_text_iter]\n",
    "    return torch.cat(tuple(filter(lambda t: t.numel() > 0, data)))\n",
    "\n",
    "\n",
    "def get_ptb_dataset(train_pct: float, split:str = \"train\", data_dir:str =\"../data\"):\n",
    "        data_iter = datasets.PennTreebank(root=data_dir, split=split)\n",
    "        tokenizer = get_tokenizer('basic_english')\n",
    "        \n",
    "        if split != \"train\":\n",
    "            train_iter = datasets.PennTreebank(root=data_dir, split=\"train\")\n",
    "            vocab = build_vocab_from_iterator(map(tokenizer, train_iter), specials=['<unk>'])\n",
    "        else:\n",
    "            vocab = build_vocab_from_iterator(map(tokenizer, data_iter), specials=['<unk>'])\n",
    "        \n",
    "        vocab.set_default_index(vocab['<unk>'])\n",
    "        \n",
    "        data = data_process(data_iter)\n",
    "        data = data[:int(train_pct*len(data))]\n",
    "        if split ==\"train\":\n",
    "            data.train = True\n",
    "        data.tokenizer = tokenizer\n",
    "        data.vocab = vocab\n",
    "        return data\n",
    "\n",
    "\n",
    "        "
   ]
  },
  {
   "cell_type": "code",
   "execution_count": 132,
   "id": "2aaf3669",
   "metadata": {},
   "outputs": [],
   "source": [
    "def batchify(data: torch.Tensor, bsz: int) -> Tensor:\n",
    "    \"\"\"Divides the data into bsz separate sequences, removing extra elements\n",
    "    that wouldn't cleanly fit.\n",
    "\n",
    "    Args:\n",
    "        data: Tensor, shape [N]\n",
    "        bsz: int, batch size\n",
    "\n",
    "    Returns:\n",
    "        Tensor of shape [N // bsz, bsz]\n",
    "    \"\"\"\n",
    "    seq_len = data.size(0) // bsz\n",
    "    data = data[:seq_len * bsz]\n",
    "    data = data.view(bsz, seq_len).contiguous()\n",
    "    return data\n",
    "\n",
    "bptt = 5\n",
    "def get_batch(source: torch.Tensor, i: int) -> Tuple[Tensor, Tensor]:\n",
    "    \"\"\"\n",
    "    Args:\n",
    "        source: Tensor, shape [full_seq_len, batch_size]\n",
    "        i: int\n",
    "\n",
    "    Returns:\n",
    "        tuple (data, target), where data has shape [seq_len, batch_size] and\n",
    "        target has shape [seq_len * batch_size]\n",
    "    \"\"\"\n",
    "    print(source.shape)\n",
    "    seq_len = min(bptt, source.size(1) - 1 - i)\n",
    "    data = source[:,i:i+seq_len]\n",
    "    target = source[:,i+1:i+1+seq_len]\n",
    "    return data, target\n",
    "\n",
    "\n",
    "class PTBIterator(torch.utils.data.IterableDataset):\n",
    "    \"\"\"\n",
    "    An iterator over batches of data in an ArithmeticDataset\n",
    "    \"\"\"\n",
    "\n",
    "    def __init__(\n",
    "        self,\n",
    "        dataset: torch.utils.data.Dataset,\n",
    "        device: torch.device,\n",
    "        batchsize: float = 2,\n",
    "        shuffle: bool = True,\n",
    "    ) -> None:\n",
    "        \"\"\"\n",
    "        :param dataset: the dataset to iterate over\n",
    "        :param device: the torch device to send batches to\n",
    "        :param batchsize_hint: * 0 means we use a default batchsize\n",
    "                               * -1 means the entire dataset\n",
    "                               * float between 0 and 1 means each batch is\n",
    "                                 that fraction of the DS\n",
    "                               * int > 1 means that specific batch size\n",
    "        :param shuffle: whether or not to randomly shuffle the dataset\n",
    "        \"\"\"\n",
    "        self.dataset = dataset\n",
    "        self.data = batchify(self.dataset, batchsize)\n",
    "        self.device = device\n",
    "        self.reset_iteration(shuffle=shuffle)\n",
    "        self.batchsize = batchsize\n",
    "\n",
    "    def reset_iteration(self, shuffle=True):\n",
    "        self.index = 0\n",
    "        if shuffle and self.dataset.train:\n",
    "            self.permutation = torch.randperm(len(self.dataset))\n",
    "        else:\n",
    "            self.permutation = torch.arange(len(self.dataset))\n",
    "\n",
    "    \n",
    "    def __iter__(self):\n",
    "        \"\"\"\n",
    "        :returns: this iterator\n",
    "        \"\"\"\n",
    "        return self\n",
    "\n",
    "    def __next__(self) -> Dict[str, Tensor]:\n",
    "        \"\"\"\n",
    "        Returns one batch of data.\n",
    "\n",
    "        :raises: StopIteration when we're out of data\n",
    "        :returns: batch tensor of shape (self.batchsize, tokens_per_eq)\n",
    "        \"\"\"\n",
    "        self.index += 1\n",
    "        return get_batch(self.data, self.index)\n",
    "        \n",
    "        \n",
    "    def __len__(self) -> int:\n",
    "        \"\"\"\n",
    "        :returns: the total number of batches\n",
    "        \"\"\"\n",
    "        return math.ceil(len(self.dataset) / self.batchsize)\n",
    "\n",
    "    "
   ]
  },
  {
   "cell_type": "code",
   "execution_count": 133,
   "id": "0ace1035",
   "metadata": {},
   "outputs": [],
   "source": [
    "train_iter = PTBIterator(get_ptb_dataset(0.2), torch.device(\"cpu\"))"
   ]
  },
  {
   "cell_type": "code",
   "execution_count": 134,
   "id": "38a2ff50",
   "metadata": {},
   "outputs": [
    {
     "data": {
      "text/plain": [
       "92441"
      ]
     },
     "execution_count": 134,
     "metadata": {},
     "output_type": "execute_result"
    }
   ],
   "source": [
    "len(train_iter)"
   ]
  },
  {
   "cell_type": "code",
   "execution_count": 135,
   "id": "7c66429d",
   "metadata": {},
   "outputs": [
    {
     "name": "stdout",
     "output_type": "stream",
     "text": [
      "torch.Size([2, 92441])\n"
     ]
    },
    {
     "data": {
      "text/plain": [
       "(tensor([[9893, 9894, 9896, 9897, 9898],\n",
       "         [   0, 1192,    2,    2,    3]]),\n",
       " tensor([[9894, 9896, 9897, 9898, 9902],\n",
       "         [1192,    2,    2,    3,    1]]))"
      ]
     },
     "execution_count": 135,
     "metadata": {},
     "output_type": "execute_result"
    }
   ],
   "source": [
    "data,target = next(iter(train_iter))\n",
    "data, target"
   ]
  },
  {
   "cell_type": "code",
   "execution_count": null,
   "id": "47229b6a",
   "metadata": {},
   "outputs": [],
   "source": []
  },
  {
   "cell_type": "code",
   "execution_count": null,
   "id": "febdcde4",
   "metadata": {},
   "outputs": [],
   "source": []
  }
 ],
 "metadata": {
  "kernelspec": {
   "display_name": "Python 3 (ipykernel)",
   "language": "python",
   "name": "python3"
  },
  "language_info": {
   "codemirror_mode": {
    "name": "ipython",
    "version": 3
   },
   "file_extension": ".py",
   "mimetype": "text/x-python",
   "name": "python",
   "nbconvert_exporter": "python",
   "pygments_lexer": "ipython3",
   "version": "3.9.7"
  }
 },
 "nbformat": 4,
 "nbformat_minor": 5
}
