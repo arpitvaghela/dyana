{
 "cells": [
  {
   "cell_type": "code",
   "execution_count": 10,
   "id": "844d03e0",
   "metadata": {},
   "outputs": [],
   "source": [
    "import torch\n",
    "from torch import Tensor\n",
    "from torch.utils.data import dataset\n",
    "from torchtext import datasets\n",
    "from grok.transformer import Transformer\n",
    "\n",
    "from torchtext.datasets import PennTreebank\n",
    "from torchtext.vocab import build_vocab_from_iterator\n",
    "from torchtext.data.utils import get_tokenizer\n",
    "\n",
    "from typing import Tuple, Dict\n",
    "import math"
   ]
  },
  {
   "cell_type": "code",
   "execution_count": 11,
   "id": "bbac2a6e",
   "metadata": {},
   "outputs": [],
   "source": [
    "train_iter = datasets.PennTreebank(root=\"../data\", split=\"train\")\n",
    "tokenizer = get_tokenizer('basic_english')\n",
    "vocab = build_vocab_from_iterator(map(tokenizer, train_iter), specials=['<unk>'])\n",
    "vocab.set_default_index(vocab['<unk>'])\n",
    "\n",
    "def data_process(raw_text_iter: dataset.IterableDataset) -> torch.Tensor:\n",
    "    \"\"\"Converts raw text into a flat Tensor.\"\"\"\n",
    "    data = [torch.tensor(vocab(tokenizer(item)), dtype=torch.long) for item in raw_text_iter]\n",
    "    return torch.cat(tuple(filter(lambda t: t.numel() > 0, data)))\n"
   ]
  },
  {
   "cell_type": "code",
   "execution_count": 12,
   "id": "a850cd76",
   "metadata": {},
   "outputs": [
    {
     "data": {
      "text/plain": [
       "torch.Size([924412])"
      ]
     },
     "execution_count": 12,
     "metadata": {},
     "output_type": "execute_result"
    }
   ],
   "source": [
    "train_data = data_process(train_iter)\n",
    "train_data.train = True\n",
    "train_data.shape"
   ]
  },
  {
   "cell_type": "code",
   "execution_count": 13,
   "id": "600d6c9f",
   "metadata": {},
   "outputs": [],
   "source": [
    "def data_process(raw_text_iter: dataset.IterableDataset) -> torch.Tensor:\n",
    "    \"\"\"Converts raw text into a flat Tensor.\"\"\"\n",
    "    data = [torch.tensor(vocab(tokenizer(item)), dtype=torch.long) for item in raw_text_iter]\n",
    "    return torch.cat(tuple(filter(lambda t: t.numel() > 0, data)))\n",
    "\n",
    "\n",
    "def get_ptb_dataset(train_pct: float, split:str = \"train\", data_dir:str =\"../data\"):\n",
    "        data_iter = datasets.PennTreebank(root=data_dir, split=split)\n",
    "        tokenizer = get_tokenizer('basic_english')\n",
    "        \n",
    "        if split != \"train\":\n",
    "            train_iter = datasets.PennTreebank(root=data_dir, split=\"train\")\n",
    "            vocab = build_vocab_from_iterator(map(tokenizer, train_iter), specials=['<unk>'])\n",
    "        else:\n",
    "            vocab = build_vocab_from_iterator(map(tokenizer, data_iter), specials=['<unk>'])\n",
    "        \n",
    "        vocab.set_default_index(vocab['<unk>'])\n",
    "        \n",
    "        data = data_process(data_iter)\n",
    "        data = data[:int(train_pct*len(data))]\n",
    "        if split ==\"train\":\n",
    "            data.train = True\n",
    "        data.tokenizer = tokenizer\n",
    "        data.vocab = vocab\n",
    "        return data\n",
    "\n",
    "\n",
    "        "
   ]
  },
  {
   "cell_type": "code",
   "execution_count": 14,
   "id": "2aaf3669",
   "metadata": {},
   "outputs": [],
   "source": [
    "def batchify(data: torch.Tensor, bsz: int) -> Tensor:\n",
    "    \"\"\"Divides the data into bsz separate sequences, removing extra elements\n",
    "    that wouldn't cleanly fit.\n",
    "\n",
    "    Args:\n",
    "        data: Tensor, shape [N]\n",
    "        bsz: int, batch size\n",
    "\n",
    "    Returns:\n",
    "        Tensor of shape [N // bsz, bsz]\n",
    "    \"\"\"\n",
    "    seq_len = data.size(0) // bsz\n",
    "    data = data[:seq_len * bsz]\n",
    "    data = data.view(bsz, seq_len).contiguous()\n",
    "    return data\n",
    "\n",
    "bptt = 5\n",
    "def get_batch(source: torch.Tensor, i: int) -> Tuple[Tensor, Tensor]:\n",
    "    \"\"\"\n",
    "    Args:\n",
    "        source: Tensor, shape [full_seq_len, batch_size]\n",
    "        i: int\n",
    "\n",
    "    Returns:\n",
    "        tuple (data, target), where data has shape [seq_len, batch_size] and\n",
    "        target has shape [seq_len * batch_size]\n",
    "    \"\"\"\n",
    "    print(source.shape)\n",
    "    seq_len = min(bptt, source.size(1) - 1 - i)\n",
    "    data = source[:,i:i+seq_len]\n",
    "    target = source[:,i+1:i+1+seq_len]\n",
    "    return data, target\n",
    "\n",
    "\n",
    "class PTBIterator(torch.utils.data.IterableDataset):\n",
    "    \"\"\"\n",
    "    An iterator over batches of data in an ArithmeticDataset\n",
    "    \"\"\"\n",
    "\n",
    "    def __init__(\n",
    "        self,\n",
    "        dataset: torch.utils.data.Dataset,\n",
    "        device: torch.device,\n",
    "        batchsize: float = 2,\n",
    "        shuffle: bool = True,\n",
    "    ) -> None:\n",
    "        \"\"\"\n",
    "        :param dataset: the dataset to iterate over\n",
    "        :param device: the torch device to send batches to\n",
    "        :param batchsize_hint: * 0 means we use a default batchsize\n",
    "                               * -1 means the entire dataset\n",
    "                               * float between 0 and 1 means each batch is\n",
    "                                 that fraction of the DS\n",
    "                               * int > 1 means that specific batch size\n",
    "        :param shuffle: whether or not to randomly shuffle the dataset\n",
    "        \"\"\"\n",
    "        self.dataset = dataset\n",
    "        self.data = batchify(self.dataset, batchsize)\n",
    "        self.device = device\n",
    "        self.reset_iteration(shuffle=shuffle)\n",
    "        self.batchsize = batchsize\n",
    "\n",
    "    def reset_iteration(self, shuffle=True):\n",
    "        self.index = 0\n",
    "        if shuffle and self.dataset.train:\n",
    "            self.permutation = torch.randperm(len(self.dataset))\n",
    "        else:\n",
    "            self.permutation = torch.arange(len(self.dataset))\n",
    "\n",
    "    \n",
    "    def __iter__(self):\n",
    "        \"\"\"\n",
    "        :returns: this iterator\n",
    "        \"\"\"\n",
    "        return self\n",
    "\n",
    "    def __next__(self) -> Dict[str, Tensor]:\n",
    "        \"\"\"\n",
    "        Returns one batch of data.\n",
    "\n",
    "        :raises: StopIteration when we're out of data\n",
    "        :returns: batch tensor of shape (self.batchsize, tokens_per_eq)\n",
    "        \"\"\"\n",
    "        self.index += 1\n",
    "        return get_batch(self.data, self.index)\n",
    "        \n",
    "        \n",
    "    def __len__(self) -> int:\n",
    "        \"\"\"\n",
    "        :returns: the total number of batches\n",
    "        \"\"\"\n",
    "        return math.ceil(len(self.dataset) / self.batchsize)\n",
    "\n",
    "    "
   ]
  },
  {
   "cell_type": "code",
   "execution_count": 133,
   "id": "0ace1035",
   "metadata": {},
   "outputs": [],
   "source": [
    "train_iter = PTBIterator(get_ptb_dataset(0.2), torch.device(\"cpu\"))"
   ]
  },
  {
   "cell_type": "code",
   "execution_count": 134,
   "id": "38a2ff50",
   "metadata": {},
   "outputs": [
    {
     "data": {
      "text/plain": [
       "92441"
      ]
     },
     "execution_count": 134,
     "metadata": {},
     "output_type": "execute_result"
    }
   ],
   "source": [
    "len(train_iter)"
   ]
  },
  {
   "cell_type": "code",
   "execution_count": 135,
   "id": "7c66429d",
   "metadata": {},
   "outputs": [
    {
     "name": "stdout",
     "output_type": "stream",
     "text": [
      "torch.Size([2, 92441])\n"
     ]
    },
    {
     "data": {
      "text/plain": [
       "(tensor([[9893, 9894, 9896, 9897, 9898],\n",
       "         [   0, 1192,    2,    2,    3]]),\n",
       " tensor([[9894, 9896, 9897, 9898, 9902],\n",
       "         [1192,    2,    2,    3,    1]]))"
      ]
     },
     "execution_count": 135,
     "metadata": {},
     "output_type": "execute_result"
    }
   ],
   "source": [
    "data,target = next(iter(train_iter))\n",
    "data, target"
   ]
  },
  {
   "cell_type": "markdown",
   "id": "e5305b7e",
   "metadata": {},
   "source": [
    "## Test grok internals"
   ]
  },
  {
   "cell_type": "code",
   "execution_count": 7,
   "id": "47229b6a",
   "metadata": {},
   "outputs": [],
   "source": [
    "from grok.training_ptb import TrainableTransformer\n",
    "from grok  import training_ptb\n",
    "import os\n",
    "import argparse"
   ]
  },
  {
   "cell_type": "code",
   "execution_count": 8,
   "id": "561a7e48",
   "metadata": {},
   "outputs": [],
   "source": [
    "hparams = argparse.Namespace(random_seed=-1, gpu=0, max_epochs=None, max_steps=1000000, log=False, load_path=None, resume=False, run_path=None, batchsize=512, optimizer='Adam', n_layers=2, n_heads=4, d_model=128, dropout=0.0, weight_noise=0.0, non_linearity='relu', max_context_len=50, dataset='ptb', math_operator='+', operand_length=None, train_data_pct=0.5, warmup_steps=10, anneal_lr_steps=100000, anneal_lr=False, max_lr=0.001, weight_decay=0, weight_decay_kind='to_zero', noise_factor=0, save_activations=False, save_outputs=False, logdir='/home/alpha91/data/codes/grok/nbs/logs', datadir='/home/alpha91/data/codes/grok/nbs/data')\n",
    "\n",
    "\n"
   ]
  },
  {
   "cell_type": "code",
   "execution_count": 9,
   "id": "bbf2273f",
   "metadata": {},
   "outputs": [
    {
     "name": "stdout",
     "output_type": "stream",
     "text": [
      "Namespace(random_seed=-1, gpu=0, max_epochs=None, max_steps=1000000, log=False, load_path=None, resume=False, run_path=None, batchsize=512, optimizer='Adam', n_layers=2, n_heads=4, d_model=128, dropout=0.0, weight_noise=0.0, non_linearity='relu', max_context_len=50, dataset='ptb', math_operator='+', operand_length=None, train_data_pct=0.5, warmup_steps=10, anneal_lr_steps=100000, anneal_lr=False, max_lr=0.001, weight_decay=0, weight_decay_kind='to_zero', noise_factor=0, save_activations=False, save_outputs=False, logdir='/home/alpha91/data/codes/grok/nbs/logs', datadir='/home/alpha91/data/codes/grok/nbs/data')\n"
     ]
    }
   ],
   "source": [
    "model = TrainableTransformer(hparams).float()"
   ]
  },
  {
   "cell_type": "code",
   "execution_count": 10,
   "id": "78e7fdc1",
   "metadata": {},
   "outputs": [
    {
     "data": {
      "text/plain": [
       "10477"
      ]
     },
     "execution_count": 10,
     "metadata": {},
     "output_type": "execute_result"
    }
   ],
   "source": [
    "model.val_dataset.shape[0] // 7"
   ]
  },
  {
   "cell_type": "code",
   "execution_count": 11,
   "id": "e4307868",
   "metadata": {},
   "outputs": [],
   "source": [
    "train_iter = model.val_dataloader()"
   ]
  },
  {
   "cell_type": "code",
   "execution_count": 12,
   "id": "b3db458a",
   "metadata": {},
   "outputs": [
    {
     "data": {
      "text/plain": [
       "(torch.Size([10477, 5]), torch.Size([10477, 5]))"
      ]
     },
     "execution_count": 12,
     "metadata": {},
     "output_type": "execute_result"
    }
   ],
   "source": [
    "batch = next(iter(train_iter))\n",
    "\n",
    "batch[\"text\"].shape, batch[\"target\"].shape"
   ]
  },
  {
   "cell_type": "code",
   "execution_count": 6,
   "id": "eff75532",
   "metadata": {},
   "outputs": [
    {
     "name": "stdout",
     "output_type": "stream",
     "text": [
      "Y => torch.Size([512, 5]) ('N', 'Seq', 'Vocab_size')\n",
      "Y_hat =>  torch.Size([512, 5, 9922]) ('N', 'Seq', 'Vocab_size')\n",
      "Acc y shapes torch.Size([512, 5]) torch.Size([512, 5])\n"
     ]
    },
    {
     "data": {
      "text/plain": [
       "(tensor(9.3999, grad_fn=<NllLoss2DBackward0>),\n",
       " tensor(0.),\n",
       " 0.0011077311847963894,\n",
       " tensor([[9893, 9894, 9896, 9897, 9898],\n",
       "         [ 698,    5,  241,  376,   12],\n",
       "         [8678,    6, 1742,  566,  128],\n",
       "         ...,\n",
       "         [   5, 4626,  308,  460, 2906],\n",
       "         [ 232,   72,    3,    1,    0],\n",
       "         [   5, 3279, 5517, 1273,    7]]),\n",
       " tensor([[[ 0.7249, -0.5114,  0.2801, -0.6231, -0.0155],\n",
       "          [ 0.7394, -0.1450, -0.0189, -0.2631,  0.1150],\n",
       "          [ 0.4053,  0.1275,  0.2674, -0.0627,  0.6148],\n",
       "          ...,\n",
       "          [-0.2284,  0.5369,  0.9074,  0.5625,  0.6269],\n",
       "          [-0.0510,  0.1802, -0.2740, -0.0541, -0.9548],\n",
       "          [ 1.1685,  1.1097,  1.0924,  0.2148,  0.7769]],\n",
       " \n",
       "         [[ 0.3628,  0.0516, -0.2601, -0.3385,  0.1052],\n",
       "          [-0.1659, -0.0472, -0.3190, -0.0921,  0.1380],\n",
       "          [ 0.4108,  0.5734,  0.9389,  0.3070, -0.6408],\n",
       "          ...,\n",
       "          [-0.1876, -0.0895, -0.0840, -0.7930, -0.3165],\n",
       "          [-0.2218,  0.5158,  0.1771, -0.6025, -0.6233],\n",
       "          [ 0.5921,  0.6869, -0.3587,  0.7918,  0.7818]],\n",
       " \n",
       "         [[-0.2014, -0.3876, -0.6821, -0.1759, -0.8260],\n",
       "          [ 0.1018, -0.6608, -0.6140, -0.1764, -0.6270],\n",
       "          [-0.1577, -0.0022, -0.6518, -0.2152, -0.7341],\n",
       "          ...,\n",
       "          [ 0.4574,  1.4312,  0.2538,  0.1205,  0.5096],\n",
       "          [ 0.1677,  0.6527,  0.3675,  0.0588, -0.0976],\n",
       "          [ 0.7195, -0.0557, -0.0673,  0.4174,  0.4392]],\n",
       " \n",
       "         ...,\n",
       " \n",
       "         [[ 0.2143,  0.5502,  0.3980, -0.5788, -0.8416],\n",
       "          [ 0.0373, -0.2482, -0.0530,  0.2469, -0.0826],\n",
       "          [ 0.6504, -0.2701, -0.0645,  0.4708,  0.0250],\n",
       "          ...,\n",
       "          [ 0.1074, -0.1069,  0.9881, -0.0329,  0.6525],\n",
       "          [ 0.5918, -0.5179,  0.1825, -0.7820, -0.0582],\n",
       "          [ 0.5790,  0.3597,  0.1830,  0.6212,  0.4915]],\n",
       " \n",
       "         [[-0.6369,  0.3562, -0.0553,  0.2791, -0.3921],\n",
       "          [-1.2440,  0.1909,  0.1412,  0.1148,  0.0766],\n",
       "          [-0.1860, -0.5355, -0.2946, -1.0773, -0.8634],\n",
       "          ...,\n",
       "          [ 0.4936,  0.4375,  0.9467,  0.0773, -0.0503],\n",
       "          [ 0.4878,  0.0202,  0.2073, -0.6718, -1.1707],\n",
       "          [ 0.5487,  0.6481,  0.5748,  0.7465,  0.5568]],\n",
       " \n",
       "         [[ 0.2143, -0.6918, -0.5145, -0.6512, -0.8479],\n",
       "          [ 0.0373, -0.5711,  0.1705, -0.3303, -0.4337],\n",
       "          [ 0.6504, -0.9481, -0.0764, -0.4724, -0.7294],\n",
       "          ...,\n",
       "          [ 0.1074,  1.1692, -0.7472,  0.3766,  0.0135],\n",
       "          [ 0.5918,  0.2647, -0.3898,  0.0952, -0.2185],\n",
       "          [ 0.5790,  0.5119,  0.8863, -0.4907,  0.9032]]],\n",
       "        grad_fn=<TransposeBackward0>),\n",
       " [],\n",
       " [])"
      ]
     },
     "execution_count": 6,
     "metadata": {},
     "output_type": "execute_result"
    }
   ],
   "source": [
    "model._step(batch, 0)\n"
   ]
  },
  {
   "cell_type": "code",
   "execution_count": null,
   "id": "fa6e1df9",
   "metadata": {},
   "outputs": [],
   "source": []
  }
 ],
 "metadata": {
  "kernelspec": {
   "display_name": "Python 3 (ipykernel)",
   "language": "python",
   "name": "python3"
  },
  "language_info": {
   "codemirror_mode": {
    "name": "ipython",
    "version": 3
   },
   "file_extension": ".py",
   "mimetype": "text/x-python",
   "name": "python",
   "nbconvert_exporter": "python",
   "pygments_lexer": "ipython3",
   "version": "3.9.7"
  }
 },
 "nbformat": 4,
 "nbformat_minor": 5
}
